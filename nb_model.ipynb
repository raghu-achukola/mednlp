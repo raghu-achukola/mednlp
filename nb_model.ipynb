{
 "cells": [
  {
   "cell_type": "code",
   "execution_count": 3,
   "metadata": {},
   "outputs": [],
   "source": [
    "# IMports\n",
    "from sklearn.feature_extraction.text import TfidfVectorizer\n",
    "from sklearn.naive_bayes import MultinomialNB\n",
    "import pandas as pd\n",
    "import numpy as np\n",
    "import json\n",
    "from nltk.corpus import stopwords"
   ]
  },
  {
   "cell_type": "markdown",
   "metadata": {},
   "source": [
    "### Data Loading and Prep (from eda.ipynb)"
   ]
  },
  {
   "cell_type": "code",
   "execution_count": 4,
   "metadata": {},
   "outputs": [],
   "source": [
    "\n",
    "SW = stopwords.words('english')\n",
    "with open('transformed_data/icd10_l2.json','r') as f:\n",
    "    DOCUMENTS_2 = json.loads(f.read())\n",
    "    \n",
    "with open('transformed_data/icd10_l1.json','r') as f:\n",
    "    DOCUMENTS_1 = json.loads(f.read())\n",
    "\n",
    "DOCUMENTS_12 = {}\n",
    "for k,v in DOCUMENTS_2.items():\n",
    "    k_n1 = '/'.join(k.split('/')[:-1])\n",
    "    DOCUMENTS_12[k] = v+' '+v  + ' <s> ' + DOCUMENTS_1[k_n1]\n",
    "\n",
    "doc_to_df = lambda doc:pd.DataFrame({k.split('/')[-1]:[v.lower()] for k,v in doc.items()}).T \n",
    "\n",
    "dig_1, dig_2, dig_12 = map(doc_to_df,[DOCUMENTS_1,DOCUMENTS_2,DOCUMENTS_12])\n"
   ]
  },
  {
   "cell_type": "code",
   "execution_count": 5,
   "metadata": {},
   "outputs": [
    {
     "data": {
      "text/html": [
       "<div>\n",
       "<style scoped>\n",
       "    .dataframe tbody tr th:only-of-type {\n",
       "        vertical-align: middle;\n",
       "    }\n",
       "\n",
       "    .dataframe tbody tr th {\n",
       "        vertical-align: top;\n",
       "    }\n",
       "\n",
       "    .dataframe thead th {\n",
       "        text-align: right;\n",
       "    }\n",
       "</style>\n",
       "<table border=\"1\" class=\"dataframe\">\n",
       "  <thead>\n",
       "    <tr style=\"text-align: right;\">\n",
       "      <th></th>\n",
       "      <th>HISTORY</th>\n",
       "      <th>DISCHARGE_PRIMARY</th>\n",
       "      <th>DISCHARGE</th>\n",
       "      <th>DISCHARGE_COALESCE</th>\n",
       "    </tr>\n",
       "    <tr>\n",
       "      <th>HADM_ID</th>\n",
       "      <th></th>\n",
       "      <th></th>\n",
       "      <th></th>\n",
       "      <th></th>\n",
       "    </tr>\n",
       "  </thead>\n",
       "  <tbody>\n",
       "    <tr>\n",
       "      <th>107527.0</th>\n",
       "      <td>This is an 81-year-old female with a history o...</td>\n",
       "      <td>NaN</td>\n",
       "      <td>NaN</td>\n",
       "      <td>NaN</td>\n",
       "    </tr>\n",
       "    <tr>\n",
       "      <th>167118.0</th>\n",
       "      <td>This 81 year old woman has a history of COPD. ...</td>\n",
       "      <td>NaN</td>\n",
       "      <td>COPD, Coronary Artery Disease/atypical angina ...</td>\n",
       "      <td>COPD, Coronary Artery Disease/atypical angina ...</td>\n",
       "    </tr>\n",
       "    <tr>\n",
       "      <th>196489.0</th>\n",
       "      <td>87 yo F with h/o CHF, COPD on 5 L oxygen at ba...</td>\n",
       "      <td>1. Chronic Obstructive Pulmonary Disease Exace...</td>\n",
       "      <td>NaN</td>\n",
       "      <td>1. Chronic Obstructive Pulmonary Disease Exace...</td>\n",
       "    </tr>\n",
       "    <tr>\n",
       "      <th>135453.0</th>\n",
       "      <td>Mr.  is a 82 year old male who had a slip and ...</td>\n",
       "      <td>NaN</td>\n",
       "      <td>1. Cervical spondylosis with calcification of ...</td>\n",
       "      <td>1. Cervical spondylosis with calcification of ...</td>\n",
       "    </tr>\n",
       "    <tr>\n",
       "      <th>170490.0</th>\n",
       "      <td>is a 62-year-old woman, with longstanding hist...</td>\n",
       "      <td>NaN</td>\n",
       "      <td>brain lesion</td>\n",
       "      <td>brain lesion</td>\n",
       "    </tr>\n",
       "  </tbody>\n",
       "</table>\n",
       "</div>"
      ],
      "text/plain": [
       "                                                    HISTORY  \\\n",
       "HADM_ID                                                       \n",
       "107527.0  This is an 81-year-old female with a history o...   \n",
       "167118.0  This 81 year old woman has a history of COPD. ...   \n",
       "196489.0  87 yo F with h/o CHF, COPD on 5 L oxygen at ba...   \n",
       "135453.0  Mr.  is a 82 year old male who had a slip and ...   \n",
       "170490.0  is a 62-year-old woman, with longstanding hist...   \n",
       "\n",
       "                                          DISCHARGE_PRIMARY  \\\n",
       "HADM_ID                                                       \n",
       "107527.0                                                NaN   \n",
       "167118.0                                                NaN   \n",
       "196489.0  1. Chronic Obstructive Pulmonary Disease Exace...   \n",
       "135453.0                                                NaN   \n",
       "170490.0                                                NaN   \n",
       "\n",
       "                                                  DISCHARGE  \\\n",
       "HADM_ID                                                       \n",
       "107527.0                                                NaN   \n",
       "167118.0  COPD, Coronary Artery Disease/atypical angina ...   \n",
       "196489.0                                                NaN   \n",
       "135453.0  1. Cervical spondylosis with calcification of ...   \n",
       "170490.0                                       brain lesion   \n",
       "\n",
       "                                         DISCHARGE_COALESCE  \n",
       "HADM_ID                                                      \n",
       "107527.0                                                NaN  \n",
       "167118.0  COPD, Coronary Artery Disease/atypical angina ...  \n",
       "196489.0  1. Chronic Obstructive Pulmonary Disease Exace...  \n",
       "135453.0  1. Cervical spondylosis with calcification of ...  \n",
       "170490.0                                       brain lesion  "
      ]
     },
     "execution_count": 5,
     "metadata": {},
     "output_type": "execute_result"
    }
   ],
   "source": [
    "notes = pd.read_csv('Data/notes_cleaned.csv')\n",
    "notes.set_index('HADM_ID',inplace=True)\n",
    "notes['DISCHARGE_COALESCE'] = notes['DISCHARGE_PRIMARY'].combine_first(notes['DISCHARGE'])\n",
    "notes.head()\n"
   ]
  },
  {
   "cell_type": "code",
   "execution_count": 6,
   "metadata": {},
   "outputs": [
    {
     "data": {
      "text/html": [
       "<div>\n",
       "<style scoped>\n",
       "    .dataframe tbody tr th:only-of-type {\n",
       "        vertical-align: middle;\n",
       "    }\n",
       "\n",
       "    .dataframe tbody tr th {\n",
       "        vertical-align: top;\n",
       "    }\n",
       "\n",
       "    .dataframe thead th {\n",
       "        text-align: right;\n",
       "    }\n",
       "</style>\n",
       "<table border=\"1\" class=\"dataframe\">\n",
       "  <thead>\n",
       "    <tr style=\"text-align: right;\">\n",
       "      <th></th>\n",
       "      <th>PAIR</th>\n",
       "    </tr>\n",
       "  </thead>\n",
       "  <tbody>\n",
       "    <tr>\n",
       "      <th>100001</th>\n",
       "      <td>{1: 'E10', 2: 'G99', 3: 'N17', 4: 'K92', 5: 'Z...</td>\n",
       "    </tr>\n",
       "    <tr>\n",
       "      <th>100003</th>\n",
       "      <td>{1: 'K25', 2: 'D62', 3: 'B18', 4: 'K74', 5: 'I...</td>\n",
       "    </tr>\n",
       "    <tr>\n",
       "      <th>100006</th>\n",
       "      <td>{1: 'J44', 2: 'J96', 3: 'J18', 4: 'C90', 5: 'E...</td>\n",
       "    </tr>\n",
       "    <tr>\n",
       "      <th>100007</th>\n",
       "      <td>{1: 'K56', 2: 'K55', 4: 'J18', 5: 'I10'}</td>\n",
       "    </tr>\n",
       "    <tr>\n",
       "      <th>100009</th>\n",
       "      <td>{1: 'I25', 2: 'T82', 3: 'I25', 4: 'E11', 5: 'E...</td>\n",
       "    </tr>\n",
       "  </tbody>\n",
       "</table>\n",
       "</div>"
      ],
      "text/plain": [
       "                                                     PAIR\n",
       "100001  {1: 'E10', 2: 'G99', 3: 'N17', 4: 'K92', 5: 'Z...\n",
       "100003  {1: 'K25', 2: 'D62', 3: 'B18', 4: 'K74', 5: 'I...\n",
       "100006  {1: 'J44', 2: 'J96', 3: 'J18', 4: 'C90', 5: 'E...\n",
       "100007           {1: 'K56', 2: 'K55', 4: 'J18', 5: 'I10'}\n",
       "100009  {1: 'I25', 2: 'T82', 3: 'I25', 4: 'E11', 5: 'E..."
      ]
     },
     "execution_count": 6,
     "metadata": {},
     "output_type": "execute_result"
    }
   ],
   "source": [
    "diagnoses = pd.read_json('transformed_data/mimic_aggregated_icd10.json')\n",
    "# we can save a lot of headache by shortening to 3 and cleaning now even though we never did before \n",
    "diagnoses['PAIR'] = diagnoses['PAIR'].apply(lambda x: {int(float(k)):v[:3] for k,v in x.items() if v[:3] in dig_12.index})\n",
    "diagnoses.head()\n"
   ]
  },
  {
   "cell_type": "code",
   "execution_count": 7,
   "metadata": {},
   "outputs": [
    {
     "data": {
      "text/html": [
       "<div>\n",
       "<style scoped>\n",
       "    .dataframe tbody tr th:only-of-type {\n",
       "        vertical-align: middle;\n",
       "    }\n",
       "\n",
       "    .dataframe tbody tr th {\n",
       "        vertical-align: top;\n",
       "    }\n",
       "\n",
       "    .dataframe thead th {\n",
       "        text-align: right;\n",
       "    }\n",
       "</style>\n",
       "<table border=\"1\" class=\"dataframe\">\n",
       "  <thead>\n",
       "    <tr style=\"text-align: right;\">\n",
       "      <th></th>\n",
       "      <th>HISTORY</th>\n",
       "      <th>DISCHARGE_PRIMARY</th>\n",
       "      <th>DISCHARGE</th>\n",
       "      <th>DISCHARGE_COALESCE</th>\n",
       "      <th>PAIR</th>\n",
       "    </tr>\n",
       "  </thead>\n",
       "  <tbody>\n",
       "    <tr>\n",
       "      <th>107527.0</th>\n",
       "      <td>This is an 81-year-old female with a history o...</td>\n",
       "      <td>NaN</td>\n",
       "      <td>NaN</td>\n",
       "      <td>NaN</td>\n",
       "      <td>{2: 'J44', 3: 'J96', 4: 'J18', 5: 'E87', 6: 'E...</td>\n",
       "    </tr>\n",
       "    <tr>\n",
       "      <th>167118.0</th>\n",
       "      <td>This 81 year old woman has a history of COPD. ...</td>\n",
       "      <td>NaN</td>\n",
       "      <td>COPD, Coronary Artery Disease/atypical angina ...</td>\n",
       "      <td>COPD, Coronary Artery Disease/atypical angina ...</td>\n",
       "      <td>{3: 'J44', 4: 'E87', 5: 'I82', 6: 'K44'}</td>\n",
       "    </tr>\n",
       "    <tr>\n",
       "      <th>196489.0</th>\n",
       "      <td>87 yo F with h/o CHF, COPD on 5 L oxygen at ba...</td>\n",
       "      <td>1. Chronic Obstructive Pulmonary Disease Exace...</td>\n",
       "      <td>NaN</td>\n",
       "      <td>1. Chronic Obstructive Pulmonary Disease Exace...</td>\n",
       "      <td>{1: 'J96', 2: 'N17', 3: 'G93', 4: 'J44', 5: 'E...</td>\n",
       "    </tr>\n",
       "    <tr>\n",
       "      <th>135453.0</th>\n",
       "      <td>Mr.  is a 82 year old male who had a slip and ...</td>\n",
       "      <td>NaN</td>\n",
       "      <td>1. Cervical spondylosis with calcification of ...</td>\n",
       "      <td>1. Cervical spondylosis with calcification of ...</td>\n",
       "      <td>{1: 'S12', 2: 'J69', 3: 'I50', 4: 'F05', 6: 'W...</td>\n",
       "    </tr>\n",
       "    <tr>\n",
       "      <th>170490.0</th>\n",
       "      <td>is a 62-year-old woman, with longstanding hist...</td>\n",
       "      <td>NaN</td>\n",
       "      <td>brain lesion</td>\n",
       "      <td>brain lesion</td>\n",
       "      <td>{1: 'D32', 2: 'M06', 3: 'M35', 4: 'I73', 5: 'K...</td>\n",
       "    </tr>\n",
       "  </tbody>\n",
       "</table>\n",
       "</div>"
      ],
      "text/plain": [
       "                                                    HISTORY  \\\n",
       "107527.0  This is an 81-year-old female with a history o...   \n",
       "167118.0  This 81 year old woman has a history of COPD. ...   \n",
       "196489.0  87 yo F with h/o CHF, COPD on 5 L oxygen at ba...   \n",
       "135453.0  Mr.  is a 82 year old male who had a slip and ...   \n",
       "170490.0  is a 62-year-old woman, with longstanding hist...   \n",
       "\n",
       "                                          DISCHARGE_PRIMARY  \\\n",
       "107527.0                                                NaN   \n",
       "167118.0                                                NaN   \n",
       "196489.0  1. Chronic Obstructive Pulmonary Disease Exace...   \n",
       "135453.0                                                NaN   \n",
       "170490.0                                                NaN   \n",
       "\n",
       "                                                  DISCHARGE  \\\n",
       "107527.0                                                NaN   \n",
       "167118.0  COPD, Coronary Artery Disease/atypical angina ...   \n",
       "196489.0                                                NaN   \n",
       "135453.0  1. Cervical spondylosis with calcification of ...   \n",
       "170490.0                                       brain lesion   \n",
       "\n",
       "                                         DISCHARGE_COALESCE  \\\n",
       "107527.0                                                NaN   \n",
       "167118.0  COPD, Coronary Artery Disease/atypical angina ...   \n",
       "196489.0  1. Chronic Obstructive Pulmonary Disease Exace...   \n",
       "135453.0  1. Cervical spondylosis with calcification of ...   \n",
       "170490.0                                       brain lesion   \n",
       "\n",
       "                                                       PAIR  \n",
       "107527.0  {2: 'J44', 3: 'J96', 4: 'J18', 5: 'E87', 6: 'E...  \n",
       "167118.0           {3: 'J44', 4: 'E87', 5: 'I82', 6: 'K44'}  \n",
       "196489.0  {1: 'J96', 2: 'N17', 3: 'G93', 4: 'J44', 5: 'E...  \n",
       "135453.0  {1: 'S12', 2: 'J69', 3: 'I50', 4: 'F05', 6: 'W...  \n",
       "170490.0  {1: 'D32', 2: 'M06', 3: 'M35', 4: 'I73', 5: 'K...  "
      ]
     },
     "execution_count": 7,
     "metadata": {},
     "output_type": "execute_result"
    }
   ],
   "source": [
    "notes3 = notes.join(diagnoses, how = 'inner')\n",
    "notes3.head()"
   ]
  },
  {
   "cell_type": "markdown",
   "metadata": {},
   "source": [
    "### Preprocessing"
   ]
  },
  {
   "cell_type": "code",
   "execution_count": 14,
   "metadata": {},
   "outputs": [],
   "source": [
    "#Start - preprocess_tfidf\n",
    "def preprocess_tfidf(doc_list, vec_params, keep_sparse =False):\n",
    "    vec = TfidfVectorizer(**vec_params)\n",
    "    doc_vec = vec.fit_transform(doc_list.values)\n",
    "    return vec\n"
   ]
  },
  {
   "cell_type": "code",
   "execution_count": 9,
   "metadata": {},
   "outputs": [],
   "source": [
    "# Train-Test -Split \n",
    "def train_test_split(df, train_pct, split_random_seed:int):\n",
    "    df_shuffled = df.sample(len(df),random_state = split_random_seed)\n",
    "    threshhold = int(len(df_shuffled)*train_pct)\n",
    "    df_shuffled['Split'] = ''\n",
    "    df_shuffled.iloc[:threshhold,-1] = 'TRAIN'\n",
    "    df_shuffled.iloc[threshhold:,-1] = 'TEST'\n",
    "    return df_shuffled\n"
   ]
  },
  {
   "cell_type": "code",
   "execution_count": 17,
   "metadata": {},
   "outputs": [],
   "source": [
    "# Y \n",
    "def preprocess_y(df_orig, diag_list):\n",
    "    df = df_orig.copy()\n",
    "    df['DIAGS'] = df['PAIR'].apply(lambda x: x[min(x.keys())] if x[min(x.keys())] in diag_list else '')\n",
    "    del df['PAIR']\n",
    "    cols = list(set(df_orig.columns) - set(['PAIR']))\n",
    "    return  df.set_index(cols)\n"
   ]
  },
  {
   "cell_type": "markdown",
   "metadata": {},
   "source": [
    "### NAIVE BAYES"
   ]
  },
  {
   "cell_type": "code",
   "execution_count": 15,
   "metadata": {},
   "outputs": [],
   "source": [
    "note3_dc = train_test_split(notes3.dropna(subset = ['DISCHARGE_COALESCE']),\n",
    "                            train_pct=0.8, split_random_seed=3)\n",
    "train,test = note3_dc[note3_dc['Split']=='TRAIN'], note3_dc[note3_dc['Split']=='TEST']"
   ]
  },
  {
   "cell_type": "code",
   "execution_count": 16,
   "metadata": {},
   "outputs": [],
   "source": [
    "self_vec = preprocess_tfidf(train['DISCHARGE_COALESCE'], {'stop_words':SW,'ngram_range':(1,2)}, keep_sparse=True)\n",
    "X_self_arr = self_vec.transform(train['DISCHARGE_COALESCE'])"
   ]
  },
  {
   "cell_type": "code",
   "execution_count": 19,
   "metadata": {},
   "outputs": [],
   "source": [
    "\n",
    "y_train = preprocess_y(train,dig_12.index)\n",
    "y_test = preprocess_y(test,dig_12.index)"
   ]
  },
  {
   "cell_type": "markdown",
   "metadata": {},
   "source": [
    "### Evaluation"
   ]
  },
  {
   "cell_type": "code",
   "execution_count": 20,
   "metadata": {},
   "outputs": [],
   "source": [
    "def evaluate_single_prediction_accuracy(labeled_df:pd.DataFrame)-> float:\n",
    "    labeled_df['DIAG'] = labeled_df['PAIR'].apply(lambda x: x[min(x.keys())])\n",
    "    return (labeled_df['DIAG'] == labeled_df['PREDICTION']).mean()\n",
    "def evaluate_in_the_list_accuracy(labeled_df:pd.DataFrame)-> float:\n",
    "    labeled_df['DIAG'] = labeled_df['PAIR'].apply(lambda x: x.values())\n",
    "    return (labeled_df.apply(lambda x: x['PREDICTION'] in x['DIAG'],axis=1 )).mean()\n",
    "def print_accuracy_results(test_df:pd.DataFrame, predictions) -> tuple: \n",
    "    X_labeled = test_df.copy()\n",
    "    X_labeled['PREDICTION'] = predictions\n",
    "    spa =evaluate_single_prediction_accuracy(X_labeled)\n",
    "    itla = evaluate_in_the_list_accuracy(X_labeled)\n",
    "    print('ACCURACY: TOP_DIAGNOSIS:{:.2f}%, IN THE LIST: {:.2f}%'.format(spa*100,itla*100))"
   ]
  },
  {
   "cell_type": "code",
   "execution_count": 22,
   "metadata": {},
   "outputs": [
    {
     "name": "stderr",
     "output_type": "stream",
     "text": [
      "c:\\Users\\raghu\\anaconda3\\lib\\site-packages\\sklearn\\utils\\validation.py:993: DataConversionWarning: A column-vector y was passed when a 1d array was expected. Please change the shape of y to (n_samples, ), for example using ravel().\n",
      "  y = column_or_1d(y, warn=True)\n"
     ]
    },
    {
     "name": "stdout",
     "output_type": "stream",
     "text": [
      "ACCURACY: TOP_DIAGNOSIS:28.26%, IN THE LIST: 43.73%\n"
     ]
    }
   ],
   "source": [
    "lm_model = MultinomialNB()\n",
    "lm_model.fit(X_self_arr,y_train.values)\n",
    "#TEST PREPROC\n",
    "X_test = self_vec.transform(test['DISCHARGE_COALESCE'])\n",
    "y_hat = lm_model.predict(X_test)\n",
    "print_accuracy_results(test,y_hat)"
   ]
  }
 ],
 "metadata": {
  "kernelspec": {
   "display_name": "Python 3.9.12 ('base')",
   "language": "python",
   "name": "python3"
  },
  "language_info": {
   "codemirror_mode": {
    "name": "ipython",
    "version": 3
   },
   "file_extension": ".py",
   "mimetype": "text/x-python",
   "name": "python",
   "nbconvert_exporter": "python",
   "pygments_lexer": "ipython3",
   "version": "3.9.12"
  },
  "orig_nbformat": 4,
  "vscode": {
   "interpreter": {
    "hash": "a0d540e4747513a65e87964975f7c81fb7d18508ffc1a8c72ca7d81f5952c4de"
   }
  }
 },
 "nbformat": 4,
 "nbformat_minor": 2
}

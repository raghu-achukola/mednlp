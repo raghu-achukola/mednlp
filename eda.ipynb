{
 "cells": [
  {
   "cell_type": "code",
   "execution_count": 1,
   "metadata": {},
   "outputs": [],
   "source": [
    "# IMports\n",
    "from sklearn.feature_extraction.text import TfidfVectorizer\n",
    "import pandas as pd\n",
    "import numpy as np\n",
    "import json\n",
    "from nltk.corpus import stopwords"
   ]
  },
  {
   "cell_type": "markdown",
   "metadata": {},
   "source": [
    "#### Data Loading "
   ]
  },
  {
   "cell_type": "code",
   "execution_count": 2,
   "metadata": {},
   "outputs": [],
   "source": [
    "SW = stopwords.words('english')\n",
    "with open('transformed_data/icd10_l2.json','r') as f:\n",
    "    DOCUMENTS_2 = json.loads(f.read())\n",
    "    \n",
    "with open('transformed_data/icd10_l1.json','r') as f:\n",
    "    DOCUMENTS_1 = json.loads(f.read())\n",
    "\n",
    "DOCUMENTS_12 = {}\n",
    "for k,v in DOCUMENTS_2.items():\n",
    "    k_n1 = '/'.join(k.split('/')[:-1])\n",
    "    DOCUMENTS_12[k] = v+' '+v  + ' <s> ' + DOCUMENTS_1[k_n1]"
   ]
  },
  {
   "cell_type": "code",
   "execution_count": 3,
   "metadata": {},
   "outputs": [],
   "source": [
    "doc_to_df = lambda doc:pd.DataFrame({k.split('/')[-1]:[v.lower()] for k,v in doc.items()}).T \n",
    "\n",
    "dig_1, dig_2, dig_12 = map(doc_to_df,[DOCUMENTS_1,DOCUMENTS_2,DOCUMENTS_12])\n"
   ]
  },
  {
   "cell_type": "code",
   "execution_count": 4,
   "metadata": {},
   "outputs": [],
   "source": [
    "NOTES = 'Data/notes_cleaned.csv'\n",
    "DIAGS = 'transformed_data/mimic_aggregated_icd10.json'\n",
    "s1 = pd.read_csv(NOTES)\n",
    "s2 = pd.read_json(DIAGS).reset_index()\n",
    "s2.columns = ['HADM_ID','PAIR']\n",
    "BASE = s1.merge(s2, on = 'HADM_ID',how = 'inner')\n",
    "BASE_HISTORY = BASE.dropna(subset = ['HISTORY'])"
   ]
  },
  {
   "cell_type": "markdown",
   "metadata": {},
   "source": [
    "### Cosine similarity metrics"
   ]
  },
  {
   "cell_type": "code",
   "execution_count": 5,
   "metadata": {},
   "outputs": [],
   "source": [
    "def model(vec_params:dict, diag_list:pd.Series, df:pd.DataFrame, note_column:str, df_dropna_subset:dict) :\n",
    "    df_full = df.dropna(subset=df_dropna_subset) \n",
    "    vec = TfidfVectorizer(**vec_params)\n",
    "    doc_vec = vec.fit_transform(diag_list.values)\n",
    "    cols = vec.get_feature_names_out()\n",
    "    X_tr = vec.transform(df_full[note_column])\n",
    "    y_p = [list(diag_list.index)[x] for x in [np.argmax(row) for row in X_tr.dot(doc_vec.T)]]\n",
    "    df_full['PRED'] = y_p\n",
    "    df_full['ACCURACY'] = df_full.apply(lambda x: x['PRED'] in [a[:3] for a in x['PAIR'].values()], axis=1)\n",
    "    df_full['PRIMARY_ACCURACY'] =df_full.apply(lambda x: x['PRED'] == x['PAIR'][min(x['PAIR'].keys())][:3],axis=1)\n",
    "    return df_full\n"
   ]
  },
  {
   "cell_type": "markdown",
   "metadata": {},
   "source": [
    "##### Simple TF-IDF + Cosine similarity"
   ]
  },
  {
   "cell_type": "markdown",
   "metadata": {},
   "source": [
    "Which of the three diagnosis-adjacent fields should we use? "
   ]
  },
  {
   "cell_type": "code",
   "execution_count": 6,
   "metadata": {},
   "outputs": [
    {
     "name": "stdout",
     "output_type": "stream",
     "text": [
      "HISTORY has 40645 non-null values\n",
      "DISCHARGE has 30170 non-null values\n",
      "DISCHARGE_PRIMARY has 2359 non-null values\n"
     ]
    }
   ],
   "source": [
    "print(f\"HISTORY has {len(BASE.dropna(subset=['HISTORY']))} non-null values\")\n",
    "print(f\"DISCHARGE has {len(BASE.dropna(subset=['DISCHARGE']))} non-null values\")\n",
    "print(f\"DISCHARGE_PRIMARY has {len(BASE.dropna(subset=['DISCHARGE_PRIMARY']))} non-null values\")"
   ]
  },
  {
   "cell_type": "markdown",
   "metadata": {},
   "source": [
    "History would be the most complete, discharge the lowest, and discharge primary with barely anything. But how predictive are they? Exploratory analysis with Cosine similarity"
   ]
  },
  {
   "cell_type": "code",
   "execution_count": 7,
   "metadata": {},
   "outputs": [],
   "source": [
    "def print_accuracy(df):\n",
    "    print(\"The model made the primary diagnosis {:.2f}% of the time and made a diagnosis {:.2f}% of the time\".format(\n",
    "        df['PRIMARY_ACCURACY'].mean()*100,df['ACCURACY'].mean()*100\n",
    "    ))"
   ]
  },
  {
   "cell_type": "code",
   "execution_count": 8,
   "metadata": {},
   "outputs": [],
   "source": [
    "note2 = BASE.copy()\n",
    "import warnings\n",
    "warnings.filterwarnings('ignore')"
   ]
  },
  {
   "cell_type": "code",
   "execution_count": 9,
   "metadata": {},
   "outputs": [
    {
     "name": "stdout",
     "output_type": "stream",
     "text": [
      "History\n",
      "The model made the primary diagnosis 3.76% of the time and made a diagnosis 13.36% of the time\n",
      "DISCHARGE\n",
      "The model made the primary diagnosis 10.89% of the time and made a diagnosis 35.11% of the time\n",
      "DISCHARGE_PRIMARY\n",
      "The model made the primary diagnosis 15.30% of the time and made a diagnosis 45.99% of the time\n"
     ]
    }
   ],
   "source": [
    "print('History')\n",
    "res = model({'stop_words':SW},dig_2[0],note2,'HISTORY', 'HISTORY')\n",
    "print_accuracy(res)\n",
    "print('DISCHARGE')\n",
    "res = model({'stop_words':SW},dig_2[0],note2,'DISCHARGE', 'DISCHARGE')\n",
    "print_accuracy(res)\n",
    "print('DISCHARGE_PRIMARY')\n",
    "res = model({'stop_words':SW},dig_2[0],note2,'DISCHARGE_PRIMARY', 'DISCHARGE_PRIMARY')\n",
    "print_accuracy(res)"
   ]
  },
  {
   "cell_type": "markdown",
   "metadata": {},
   "source": [
    "Unfortunately, the accuracy is the exact INVERSE of the availability of the data. DISCHARGE_PRIMARY is unusable bc too few, but maybe we can boost DISCHARGE by coalesce the field w DISCHARGE_PRIMARY"
   ]
  },
  {
   "cell_type": "code",
   "execution_count": 10,
   "metadata": {},
   "outputs": [
    {
     "name": "stdout",
     "output_type": "stream",
     "text": [
      "DISCHARGE_COALESCE\n",
      "The model made the primary diagnosis 11.16% of the time and made a diagnosis 35.86% of the time\n"
     ]
    }
   ],
   "source": [
    "note2['DISCHARGE_COALESCE'] = note2['DISCHARGE_PRIMARY'].combine_first(note2['DISCHARGE'])\n",
    "print('DISCHARGE_COALESCE')\n",
    "res = model({'stop_words':SW},dig_2[0],note2,'DISCHARGE_COALESCE', 'DISCHARGE_COALESCE')\n",
    "print_accuracy(res)"
   ]
  },
  {
   "cell_type": "markdown",
   "metadata": {},
   "source": [
    "So we can see discharge_coalesce is the way to go\n",
    "Can we increase performance by including bigrams? \n"
   ]
  },
  {
   "cell_type": "code",
   "execution_count": 11,
   "metadata": {},
   "outputs": [
    {
     "name": "stdout",
     "output_type": "stream",
     "text": [
      "DISCHARGE_COALESCE - BIGRAMS\n",
      "The model made the primary diagnosis 11.30% of the time and made a diagnosis 37.01% of the time\n"
     ]
    }
   ],
   "source": [
    "print('DISCHARGE_COALESCE - BIGRAMS')\n",
    "res = model({'stop_words':SW, 'ngram_range':(1,2)},dig_2[0],note2,'DISCHARGE_COALESCE', 'DISCHARGE_COALESCE')\n",
    "print_accuracy(res)"
   ]
  },
  {
   "cell_type": "markdown",
   "metadata": {},
   "source": [
    "What about dig_12 which can make some of the shorter documents (some are just one word)\n",
    "have other context like what the \"super\" diagnosis category means?"
   ]
  },
  {
   "cell_type": "code",
   "execution_count": 12,
   "metadata": {},
   "outputs": [
    {
     "name": "stdout",
     "output_type": "stream",
     "text": [
      "DISCHARGE_COALESCE - BIGRAMS + Context Diagnosis\n",
      "The model made the primary diagnosis 12.20% of the time and made a diagnosis 37.07% of the time\n"
     ]
    }
   ],
   "source": [
    "print('DISCHARGE_COALESCE - BIGRAMS + Context Diagnosis')\n",
    "res = model({'stop_words':SW, 'ngram_range':(1,2)},dig_12[0],note2,'DISCHARGE_COALESCE', 'DISCHARGE_COALESCE')\n",
    "print_accuracy(res)"
   ]
  },
  {
   "cell_type": "markdown",
   "metadata": {},
   "source": [
    "These unsupervised models will serve as a benchmark against a supervised model - we are trying to beat a primary diagnosis of 12.20\\% and in-the-list diagnosis of 37.07\\%"
   ]
  }
 ],
 "metadata": {
  "kernelspec": {
   "display_name": "Python 3.9.12 ('base')",
   "language": "python",
   "name": "python3"
  },
  "language_info": {
   "codemirror_mode": {
    "name": "ipython",
    "version": 3
   },
   "file_extension": ".py",
   "mimetype": "text/x-python",
   "name": "python",
   "nbconvert_exporter": "python",
   "pygments_lexer": "ipython3",
   "version": "3.9.12"
  },
  "orig_nbformat": 4,
  "vscode": {
   "interpreter": {
    "hash": "a0d540e4747513a65e87964975f7c81fb7d18508ffc1a8c72ca7d81f5952c4de"
   }
  }
 },
 "nbformat": 4,
 "nbformat_minor": 2
}

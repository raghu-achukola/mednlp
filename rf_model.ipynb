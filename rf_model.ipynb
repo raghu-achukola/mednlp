{
 "cells": [
  {
   "cell_type": "code",
   "execution_count": 1,
   "metadata": {},
   "outputs": [],
   "source": [
    "# Imports\n",
    "from sklearn.feature_extraction.text import TfidfVectorizer\n",
    "from sklearn.ensemble import RandomForestRegressor\n",
    "import pandas as pd\n",
    "import numpy as np\n",
    "import json\n",
    "from nltk.corpus import stopwords"
   ]
  },
  {
   "cell_type": "markdown",
   "metadata": {},
   "source": [
    "### Data Loading and Prep (from eda.ipynb)"
   ]
  },
  {
   "cell_type": "code",
   "execution_count": 2,
   "metadata": {},
   "outputs": [],
   "source": [
    "\n",
    "SW = stopwords.words('english')\n",
    "with open('transformed_data/icd10_l2.json','r') as f:\n",
    "    DOCUMENTS_2 = json.loads(f.read())\n",
    "    \n",
    "with open('transformed_data/icd10_l1.json','r') as f:\n",
    "    DOCUMENTS_1 = json.loads(f.read())\n",
    "\n",
    "DOCUMENTS_12 = {}\n",
    "for k,v in DOCUMENTS_2.items():\n",
    "    k_n1 = '/'.join(k.split('/')[:-1])\n",
    "    DOCUMENTS_12[k] = v+' '+v  + ' <s> ' + DOCUMENTS_1[k_n1]\n",
    "\n",
    "doc_to_df = lambda doc:pd.DataFrame({k.split('/')[-1]:[v.lower()] for k,v in doc.items()}).T \n",
    "\n",
    "dig_1, dig_2, dig_12 = map(doc_to_df,[DOCUMENTS_1,DOCUMENTS_2,DOCUMENTS_12])\n"
   ]
  },
  {
   "cell_type": "code",
   "execution_count": 3,
   "metadata": {},
   "outputs": [
    {
     "data": {
      "text/html": [
       "<div>\n",
       "<style scoped>\n",
       "    .dataframe tbody tr th:only-of-type {\n",
       "        vertical-align: middle;\n",
       "    }\n",
       "\n",
       "    .dataframe tbody tr th {\n",
       "        vertical-align: top;\n",
       "    }\n",
       "\n",
       "    .dataframe thead th {\n",
       "        text-align: right;\n",
       "    }\n",
       "</style>\n",
       "<table border=\"1\" class=\"dataframe\">\n",
       "  <thead>\n",
       "    <tr style=\"text-align: right;\">\n",
       "      <th></th>\n",
       "      <th>HISTORY</th>\n",
       "      <th>DISCHARGE_PRIMARY</th>\n",
       "      <th>DISCHARGE</th>\n",
       "      <th>DISCHARGE_COALESCE</th>\n",
       "    </tr>\n",
       "    <tr>\n",
       "      <th>HADM_ID</th>\n",
       "      <th></th>\n",
       "      <th></th>\n",
       "      <th></th>\n",
       "      <th></th>\n",
       "    </tr>\n",
       "  </thead>\n",
       "  <tbody>\n",
       "    <tr>\n",
       "      <th>107527.0</th>\n",
       "      <td>This is an 81-year-old female with a history o...</td>\n",
       "      <td>NaN</td>\n",
       "      <td>NaN</td>\n",
       "      <td>NaN</td>\n",
       "    </tr>\n",
       "    <tr>\n",
       "      <th>167118.0</th>\n",
       "      <td>This 81 year old woman has a history of COPD. ...</td>\n",
       "      <td>NaN</td>\n",
       "      <td>COPD, Coronary Artery Disease/atypical angina ...</td>\n",
       "      <td>COPD, Coronary Artery Disease/atypical angina ...</td>\n",
       "    </tr>\n",
       "    <tr>\n",
       "      <th>196489.0</th>\n",
       "      <td>87 yo F with h/o CHF, COPD on 5 L oxygen at ba...</td>\n",
       "      <td>1. Chronic Obstructive Pulmonary Disease Exace...</td>\n",
       "      <td>NaN</td>\n",
       "      <td>1. Chronic Obstructive Pulmonary Disease Exace...</td>\n",
       "    </tr>\n",
       "    <tr>\n",
       "      <th>135453.0</th>\n",
       "      <td>Mr.  is a 82 year old male who had a slip and ...</td>\n",
       "      <td>NaN</td>\n",
       "      <td>1. Cervical spondylosis with calcification of ...</td>\n",
       "      <td>1. Cervical spondylosis with calcification of ...</td>\n",
       "    </tr>\n",
       "    <tr>\n",
       "      <th>170490.0</th>\n",
       "      <td>is a 62-year-old woman, with longstanding hist...</td>\n",
       "      <td>NaN</td>\n",
       "      <td>brain lesion</td>\n",
       "      <td>brain lesion</td>\n",
       "    </tr>\n",
       "  </tbody>\n",
       "</table>\n",
       "</div>"
      ],
      "text/plain": [
       "                                                    HISTORY  \\\n",
       "HADM_ID                                                       \n",
       "107527.0  This is an 81-year-old female with a history o...   \n",
       "167118.0  This 81 year old woman has a history of COPD. ...   \n",
       "196489.0  87 yo F with h/o CHF, COPD on 5 L oxygen at ba...   \n",
       "135453.0  Mr.  is a 82 year old male who had a slip and ...   \n",
       "170490.0  is a 62-year-old woman, with longstanding hist...   \n",
       "\n",
       "                                          DISCHARGE_PRIMARY  \\\n",
       "HADM_ID                                                       \n",
       "107527.0                                                NaN   \n",
       "167118.0                                                NaN   \n",
       "196489.0  1. Chronic Obstructive Pulmonary Disease Exace...   \n",
       "135453.0                                                NaN   \n",
       "170490.0                                                NaN   \n",
       "\n",
       "                                                  DISCHARGE  \\\n",
       "HADM_ID                                                       \n",
       "107527.0                                                NaN   \n",
       "167118.0  COPD, Coronary Artery Disease/atypical angina ...   \n",
       "196489.0                                                NaN   \n",
       "135453.0  1. Cervical spondylosis with calcification of ...   \n",
       "170490.0                                       brain lesion   \n",
       "\n",
       "                                         DISCHARGE_COALESCE  \n",
       "HADM_ID                                                      \n",
       "107527.0                                                NaN  \n",
       "167118.0  COPD, Coronary Artery Disease/atypical angina ...  \n",
       "196489.0  1. Chronic Obstructive Pulmonary Disease Exace...  \n",
       "135453.0  1. Cervical spondylosis with calcification of ...  \n",
       "170490.0                                       brain lesion  "
      ]
     },
     "execution_count": 3,
     "metadata": {},
     "output_type": "execute_result"
    }
   ],
   "source": [
    "notes = pd.read_csv('Data/notes_cleaned.csv')\n",
    "notes.set_index('HADM_ID',inplace=True)\n",
    "notes['DISCHARGE_COALESCE'] = notes['DISCHARGE_PRIMARY'].combine_first(notes['DISCHARGE'])\n",
    "notes.head()\n"
   ]
  },
  {
   "cell_type": "code",
   "execution_count": 4,
   "metadata": {},
   "outputs": [
    {
     "data": {
      "text/html": [
       "<div>\n",
       "<style scoped>\n",
       "    .dataframe tbody tr th:only-of-type {\n",
       "        vertical-align: middle;\n",
       "    }\n",
       "\n",
       "    .dataframe tbody tr th {\n",
       "        vertical-align: top;\n",
       "    }\n",
       "\n",
       "    .dataframe thead th {\n",
       "        text-align: right;\n",
       "    }\n",
       "</style>\n",
       "<table border=\"1\" class=\"dataframe\">\n",
       "  <thead>\n",
       "    <tr style=\"text-align: right;\">\n",
       "      <th></th>\n",
       "      <th>PAIR</th>\n",
       "    </tr>\n",
       "  </thead>\n",
       "  <tbody>\n",
       "    <tr>\n",
       "      <th>100001</th>\n",
       "      <td>{1: 'E10', 2: 'G99', 3: 'N17', 4: 'K92', 5: 'Z...</td>\n",
       "    </tr>\n",
       "    <tr>\n",
       "      <th>100003</th>\n",
       "      <td>{1: 'K25', 2: 'D62', 3: 'B18', 4: 'K74', 5: 'I...</td>\n",
       "    </tr>\n",
       "    <tr>\n",
       "      <th>100006</th>\n",
       "      <td>{1: 'J44', 2: 'J96', 3: 'J18', 4: 'C90', 5: 'E...</td>\n",
       "    </tr>\n",
       "    <tr>\n",
       "      <th>100007</th>\n",
       "      <td>{1: 'K56', 2: 'K55', 4: 'J18', 5: 'I10'}</td>\n",
       "    </tr>\n",
       "    <tr>\n",
       "      <th>100009</th>\n",
       "      <td>{1: 'I25', 2: 'T82', 3: 'I25', 4: 'E11', 5: 'E...</td>\n",
       "    </tr>\n",
       "  </tbody>\n",
       "</table>\n",
       "</div>"
      ],
      "text/plain": [
       "                                                     PAIR\n",
       "100001  {1: 'E10', 2: 'G99', 3: 'N17', 4: 'K92', 5: 'Z...\n",
       "100003  {1: 'K25', 2: 'D62', 3: 'B18', 4: 'K74', 5: 'I...\n",
       "100006  {1: 'J44', 2: 'J96', 3: 'J18', 4: 'C90', 5: 'E...\n",
       "100007           {1: 'K56', 2: 'K55', 4: 'J18', 5: 'I10'}\n",
       "100009  {1: 'I25', 2: 'T82', 3: 'I25', 4: 'E11', 5: 'E..."
      ]
     },
     "execution_count": 4,
     "metadata": {},
     "output_type": "execute_result"
    }
   ],
   "source": [
    "diagnoses = pd.read_json('transformed_data/mimic_aggregated_icd10.json')\n",
    "# we can save a lot of headache by shortening to 3 and cleaning now even though we never did before \n",
    "diagnoses['PAIR'] = diagnoses['PAIR'].apply(lambda x: {int(float(k)):v[:3] for k,v in x.items() if v[:3] in dig_12.index})\n",
    "diagnoses.head()\n"
   ]
  },
  {
   "cell_type": "code",
   "execution_count": 5,
   "metadata": {},
   "outputs": [
    {
     "data": {
      "text/html": [
       "<div>\n",
       "<style scoped>\n",
       "    .dataframe tbody tr th:only-of-type {\n",
       "        vertical-align: middle;\n",
       "    }\n",
       "\n",
       "    .dataframe tbody tr th {\n",
       "        vertical-align: top;\n",
       "    }\n",
       "\n",
       "    .dataframe thead th {\n",
       "        text-align: right;\n",
       "    }\n",
       "</style>\n",
       "<table border=\"1\" class=\"dataframe\">\n",
       "  <thead>\n",
       "    <tr style=\"text-align: right;\">\n",
       "      <th></th>\n",
       "      <th>HISTORY</th>\n",
       "      <th>DISCHARGE_PRIMARY</th>\n",
       "      <th>DISCHARGE</th>\n",
       "      <th>DISCHARGE_COALESCE</th>\n",
       "      <th>PAIR</th>\n",
       "    </tr>\n",
       "  </thead>\n",
       "  <tbody>\n",
       "    <tr>\n",
       "      <th>107527.0</th>\n",
       "      <td>This is an 81-year-old female with a history o...</td>\n",
       "      <td>NaN</td>\n",
       "      <td>NaN</td>\n",
       "      <td>NaN</td>\n",
       "      <td>{2: 'J44', 3: 'J96', 4: 'J18', 5: 'E87', 6: 'E...</td>\n",
       "    </tr>\n",
       "    <tr>\n",
       "      <th>167118.0</th>\n",
       "      <td>This 81 year old woman has a history of COPD. ...</td>\n",
       "      <td>NaN</td>\n",
       "      <td>COPD, Coronary Artery Disease/atypical angina ...</td>\n",
       "      <td>COPD, Coronary Artery Disease/atypical angina ...</td>\n",
       "      <td>{3: 'J44', 4: 'E87', 5: 'I82', 6: 'K44'}</td>\n",
       "    </tr>\n",
       "    <tr>\n",
       "      <th>196489.0</th>\n",
       "      <td>87 yo F with h/o CHF, COPD on 5 L oxygen at ba...</td>\n",
       "      <td>1. Chronic Obstructive Pulmonary Disease Exace...</td>\n",
       "      <td>NaN</td>\n",
       "      <td>1. Chronic Obstructive Pulmonary Disease Exace...</td>\n",
       "      <td>{1: 'J96', 2: 'N17', 3: 'G93', 4: 'J44', 5: 'E...</td>\n",
       "    </tr>\n",
       "    <tr>\n",
       "      <th>135453.0</th>\n",
       "      <td>Mr.  is a 82 year old male who had a slip and ...</td>\n",
       "      <td>NaN</td>\n",
       "      <td>1. Cervical spondylosis with calcification of ...</td>\n",
       "      <td>1. Cervical spondylosis with calcification of ...</td>\n",
       "      <td>{1: 'S12', 2: 'J69', 3: 'I50', 4: 'F05', 6: 'W...</td>\n",
       "    </tr>\n",
       "    <tr>\n",
       "      <th>170490.0</th>\n",
       "      <td>is a 62-year-old woman, with longstanding hist...</td>\n",
       "      <td>NaN</td>\n",
       "      <td>brain lesion</td>\n",
       "      <td>brain lesion</td>\n",
       "      <td>{1: 'D32', 2: 'M06', 3: 'M35', 4: 'I73', 5: 'K...</td>\n",
       "    </tr>\n",
       "  </tbody>\n",
       "</table>\n",
       "</div>"
      ],
      "text/plain": [
       "                                                    HISTORY  \\\n",
       "107527.0  This is an 81-year-old female with a history o...   \n",
       "167118.0  This 81 year old woman has a history of COPD. ...   \n",
       "196489.0  87 yo F with h/o CHF, COPD on 5 L oxygen at ba...   \n",
       "135453.0  Mr.  is a 82 year old male who had a slip and ...   \n",
       "170490.0  is a 62-year-old woman, with longstanding hist...   \n",
       "\n",
       "                                          DISCHARGE_PRIMARY  \\\n",
       "107527.0                                                NaN   \n",
       "167118.0                                                NaN   \n",
       "196489.0  1. Chronic Obstructive Pulmonary Disease Exace...   \n",
       "135453.0                                                NaN   \n",
       "170490.0                                                NaN   \n",
       "\n",
       "                                                  DISCHARGE  \\\n",
       "107527.0                                                NaN   \n",
       "167118.0  COPD, Coronary Artery Disease/atypical angina ...   \n",
       "196489.0                                                NaN   \n",
       "135453.0  1. Cervical spondylosis with calcification of ...   \n",
       "170490.0                                       brain lesion   \n",
       "\n",
       "                                         DISCHARGE_COALESCE  \\\n",
       "107527.0                                                NaN   \n",
       "167118.0  COPD, Coronary Artery Disease/atypical angina ...   \n",
       "196489.0  1. Chronic Obstructive Pulmonary Disease Exace...   \n",
       "135453.0  1. Cervical spondylosis with calcification of ...   \n",
       "170490.0                                       brain lesion   \n",
       "\n",
       "                                                       PAIR  \n",
       "107527.0  {2: 'J44', 3: 'J96', 4: 'J18', 5: 'E87', 6: 'E...  \n",
       "167118.0           {3: 'J44', 4: 'E87', 5: 'I82', 6: 'K44'}  \n",
       "196489.0  {1: 'J96', 2: 'N17', 3: 'G93', 4: 'J44', 5: 'E...  \n",
       "135453.0  {1: 'S12', 2: 'J69', 3: 'I50', 4: 'F05', 6: 'W...  \n",
       "170490.0  {1: 'D32', 2: 'M06', 3: 'M35', 4: 'I73', 5: 'K...  "
      ]
     },
     "execution_count": 5,
     "metadata": {},
     "output_type": "execute_result"
    }
   ],
   "source": [
    "notes3 = notes.join(diagnoses, how = 'inner')\n",
    "notes3.head()"
   ]
  },
  {
   "cell_type": "markdown",
   "metadata": {},
   "source": [
    "### Preprocess"
   ]
  },
  {
   "cell_type": "code",
   "execution_count": 6,
   "metadata": {},
   "outputs": [],
   "source": [
    "# #Start - preprocess_tfidf\n",
    "# def preprocess_tfidf(doc_list, vec_params, keep_sparse =False):\n",
    "#     vec = TfidfVectorizer(**vec_params)\n",
    "#     doc_vec = vec.fit_transform(doc_list.values)\n",
    "#     return vec\n",
    "# # Train-Test -Split \n",
    "# def train_test_split(df, train_pct, split_random_seed:int):\n",
    "#     df_shuffled = df.sample(len(df),random_state = split_random_seed)\n",
    "#     threshhold = int(len(df_shuffled)*train_pct)\n",
    "#     df_shuffled['Split'] = ''\n",
    "#     df_shuffled.iloc[:threshhold,-1] = 'TRAIN'\n",
    "#     df_shuffled.iloc[threshhold:,-1] = 'TEST'\n",
    "#     return df_shuffled\n",
    "\n",
    "# # Y # Y \n",
    "# def preprocess_y(df_orig, diag_list, top_only = True, dummy = True):\n",
    "#     df = df_orig.copy()\n",
    "#     if top_only:\n",
    "#         #Changed after PAIR refactor (see above)\n",
    "#         fn = (lambda x: [x]) if  dummy else (lambda x: x)\n",
    "#         df['DIAGS'] = df['PAIR'].apply(lambda x: fn(x[min(x.keys())]) if x[min(x.keys())] in diag_list else '')\n",
    "#     else:\n",
    "#         df['DIAGS'] = df['PAIR'].apply(lambda x: list( set(x.values()).intersection(set(diag_list))))\n",
    "#     del df['PAIR']\n",
    "#     cols = list(set(df_orig.columns) - set(['PAIR']))\n",
    "#     if dummy:\n",
    "#         output =  df.set_index(cols).DIAGS.str.join('|').str.get_dummies()\n",
    "#         return output.reindex(output.columns.union(diag_list, sort=None), axis=1, fill_value=0)\n",
    "#     else:\n",
    "#         return  df.set_index(cols)\n",
    "\n",
    "# first_diag = lambda x: x[min(x.keys())]\n"
   ]
  },
  {
   "cell_type": "code",
   "execution_count": 7,
   "metadata": {},
   "outputs": [],
   "source": [
    "from model import preprocess\n",
    "from model import postmortem\n",
    "from model import postprocess\n",
    "from model import evaluate"
   ]
  },
  {
   "cell_type": "code",
   "execution_count": 8,
   "metadata": {},
   "outputs": [],
   "source": [
    "note3_dc = preprocess.train_test_split(notes3.dropna(subset = ['DISCHARGE_COALESCE']), train_pct=0.8, split_random_seed=3)\n",
    "train,test = note3_dc[note3_dc['Split']=='TRAIN'], note3_dc[note3_dc['Split']=='TEST']"
   ]
  },
  {
   "cell_type": "code",
   "execution_count": 9,
   "metadata": {},
   "outputs": [
    {
     "data": {
      "text/plain": [
       "43"
      ]
     },
     "execution_count": 9,
     "metadata": {},
     "output_type": "execute_result"
    }
   ],
   "source": [
    "tr_diag = set(train['PAIR'].apply(preprocess.first_diag))\n",
    "te_diag = set(test['PAIR'].apply(preprocess.first_diag))\n",
    "train_diags = set(train['PAIR'].apply(preprocess.first_diag).values)\n",
    "test_diags = set(test['PAIR'].apply(preprocess.first_diag).values )\n",
    "\n",
    "danger = test_diags - train_diags\n",
    "test = test[test['PAIR'].apply(preprocess.first_diag).apply(lambda x: x not in danger)]\n",
    "len(danger)"
   ]
  },
  {
   "cell_type": "code",
   "execution_count": 10,
   "metadata": {},
   "outputs": [],
   "source": [
    "self_vec = preprocess.preprocess_tfidf(train['DISCHARGE_COALESCE'], {'stop_words':SW,'ngram_range':(1,2)}, keep_sparse=True)\n",
    "X_train, X_test = [self_vec.transform(df['DISCHARGE_COALESCE']) for df in [train,test]]\n",
    "y_train, y_test = [preprocess.preprocess_y(df,dig_12.index) for df in [train,test]]"
   ]
  },
  {
   "cell_type": "code",
   "execution_count": 11,
   "metadata": {},
   "outputs": [
    {
     "name": "stderr",
     "output_type": "stream",
     "text": [
      "[Parallel(n_jobs=5)]: Using backend ThreadingBackend with 5 concurrent workers.\n"
     ]
    },
    {
     "name": "stdout",
     "output_type": "stream",
     "text": [
      "building tree 1 of 15\n",
      "building tree 2 of 15\n",
      "building tree 3 of 15\n",
      "building tree 4 of 15\n",
      "building tree 5 of 15\n",
      "building tree 6 of 15\n",
      "building tree 7 of 15\n",
      "building tree 8 of 15\n",
      "building tree 9 of 15\n",
      "building tree 10 of 15\n",
      "building tree 11 of 15\n",
      "building tree 12 of 15\n",
      "building tree 13 of 15\n",
      "building tree 14 of 15\n",
      "building tree 15 of 15\n"
     ]
    },
    {
     "name": "stderr",
     "output_type": "stream",
     "text": [
      "[Parallel(n_jobs=5)]: Done  12 out of  15 | elapsed:  2.3min remaining:   35.1s\n",
      "[Parallel(n_jobs=5)]: Done  15 out of  15 | elapsed:  2.4min finished\n"
     ]
    },
    {
     "data": {
      "text/plain": [
       "RandomForestRegressor(max_features='sqrt', n_estimators=15, n_jobs=5, verbose=3)"
      ]
     },
     "execution_count": 11,
     "metadata": {},
     "output_type": "execute_result"
    }
   ],
   "source": [
    "from sklearn.ensemble import RandomForestRegressor\n",
    "\n",
    "rf = RandomForestRegressor(n_estimators=15, n_jobs=5, max_features=\"sqrt\", verbose = 3)\n",
    "rf.fit(X_train,y_train)"
   ]
  },
  {
   "cell_type": "code",
   "execution_count": 12,
   "metadata": {},
   "outputs": [
    {
     "name": "stderr",
     "output_type": "stream",
     "text": [
      "[Parallel(n_jobs=5)]: Using backend ThreadingBackend with 5 concurrent workers.\n",
      "[Parallel(n_jobs=5)]: Done  12 out of  15 | elapsed:    0.5s remaining:    0.0s\n",
      "[Parallel(n_jobs=5)]: Done  15 out of  15 | elapsed:    0.6s finished\n"
     ]
    }
   ],
   "source": [
    "y_hat = rf.predict(X_test)"
   ]
  },
  {
   "cell_type": "code",
   "execution_count": 13,
   "metadata": {},
   "outputs": [],
   "source": [
    "# def argmax_to_one(y:np.array):\n",
    "#     y_hat_rf_max = np.zeros(y.shape)\n",
    "#     for i,doc in enumerate(y):\n",
    "#         y_hat_rf_max[i][np.argmax(doc)] = 1\n",
    "#     return y_hat_rf_max"
   ]
  },
  {
   "cell_type": "code",
   "execution_count": 14,
   "metadata": {},
   "outputs": [],
   "source": [
    "# def text_dot_product(matrix:np.array,col_names:list):\n",
    "#     predictions = []\n",
    "#     for enc in matrix:\n",
    "#         pred = ''\n",
    "#         for doc,val  in zip(col_names, enc):\n",
    "#             pred += doc*int(val)\n",
    "#         predictions.append(pred)\n",
    "#     return predictions"
   ]
  },
  {
   "cell_type": "code",
   "execution_count": 15,
   "metadata": {},
   "outputs": [],
   "source": [
    "# def evaluate_single_prediction_accuracy(labeled_df:pd.DataFrame)-> float:\n",
    "#     labeled_df['DIAG'] = labeled_df['PAIR'].apply(lambda x: x[min(x.keys())])\n",
    "#     return (labeled_df['DIAG'] == labeled_df['PREDICTION']).mean()\n",
    "# def evaluate_in_the_list_accuracy(labeled_df:pd.DataFrame)-> float:\n",
    "#     labeled_df['DIAG'] = labeled_df['PAIR'].apply(lambda x: x.values())\n",
    "#     return (labeled_df.apply(lambda x: x['PREDICTION'] in x['DIAG'],axis=1 )).mean()\n",
    "# def print_accuracy_results(test_df:pd.DataFrame, predictions) -> tuple: \n",
    "#     X_labeled = test_df.copy()\n",
    "#     X_labeled['PREDICTION'] = predictions\n",
    "#     spa =evaluate_single_prediction_accuracy(X_labeled)\n",
    "#     itla = evaluate_in_the_list_accuracy(X_labeled)\n",
    "#     print('ACCURACY: TOP_DIAGNOSIS:{:.2f}%, IN THE LIST: {:.2f}%'.format(spa*100,itla*100))"
   ]
  },
  {
   "cell_type": "code",
   "execution_count": 16,
   "metadata": {},
   "outputs": [
    {
     "name": "stderr",
     "output_type": "stream",
     "text": [
      "[Parallel(n_jobs=5)]: Using backend ThreadingBackend with 5 concurrent workers.\n"
     ]
    },
    {
     "name": "stdout",
     "output_type": "stream",
     "text": [
      "building tree 1 of 25building tree 2 of 25\n",
      "\n",
      "building tree 3 of 25\n",
      "building tree 4 of 25\n",
      "building tree 5 of 25\n",
      "building tree 6 of 25\n",
      "building tree 7 of 25\n",
      "building tree 8 of 25\n",
      "building tree 9 of 25\n",
      "building tree 10 of 25\n",
      "building tree 11 of 25\n",
      "building tree 12 of 25\n",
      "building tree 13 of 25\n",
      "building tree 14 of 25\n",
      "building tree 15 of 25\n",
      "building tree 16 of 25\n",
      "building tree 17 of 25\n",
      "building tree 18 of 25\n",
      "building tree 19 of 25\n",
      "building tree 20 of 25\n",
      "building tree 21 of 25\n",
      "building tree 22 of 25\n",
      "building tree 23 of 25\n",
      "building tree 24 of 25\n",
      "building tree 25 of 25\n"
     ]
    },
    {
     "name": "stderr",
     "output_type": "stream",
     "text": [
      "[Parallel(n_jobs=5)]: Done  25 out of  25 | elapsed:  4.6min remaining:    0.0s\n",
      "[Parallel(n_jobs=5)]: Done  25 out of  25 | elapsed:  4.6min finished\n",
      "[Parallel(n_jobs=5)]: Using backend ThreadingBackend with 5 concurrent workers.\n",
      "[Parallel(n_jobs=5)]: Done  25 out of  25 | elapsed:    1.1s remaining:    0.0s\n",
      "[Parallel(n_jobs=5)]: Done  25 out of  25 | elapsed:    1.1s finished\n"
     ]
    }
   ],
   "source": [
    "rf = RandomForestRegressor(n_estimators=25, n_jobs=5, max_features=\"sqrt\", verbose = 3)\n",
    "rf.fit(X_train,y_train)\n",
    "y_hat_25_sqrt = rf.predict(X_test)\n"
   ]
  },
  {
   "cell_type": "code",
   "execution_count": 17,
   "metadata": {},
   "outputs": [
    {
     "data": {
      "text/html": [
       "<div>\n",
       "<style scoped>\n",
       "    .dataframe tbody tr th:only-of-type {\n",
       "        vertical-align: middle;\n",
       "    }\n",
       "\n",
       "    .dataframe tbody tr th {\n",
       "        vertical-align: top;\n",
       "    }\n",
       "\n",
       "    .dataframe thead th {\n",
       "        text-align: right;\n",
       "    }\n",
       "</style>\n",
       "<table border=\"1\" class=\"dataframe\">\n",
       "  <thead>\n",
       "    <tr style=\"text-align: right;\">\n",
       "      <th></th>\n",
       "      <th>HISTORY</th>\n",
       "      <th>DISCHARGE_PRIMARY</th>\n",
       "      <th>DISCHARGE</th>\n",
       "      <th>DISCHARGE_COALESCE</th>\n",
       "      <th>PAIR</th>\n",
       "      <th>Split</th>\n",
       "      <th>PREDICTION</th>\n",
       "      <th>PRIMARY</th>\n",
       "      <th>DIAG_LIST</th>\n",
       "      <th>PRIMARY_MATCH</th>\n",
       "      <th>ONE_IN_LIST_MATCH</th>\n",
       "      <th>STATUS</th>\n",
       "    </tr>\n",
       "  </thead>\n",
       "  <tbody>\n",
       "    <tr>\n",
       "      <th>159804.0</th>\n",
       "      <td>Patient is a 82 yo LHW with hx of HTN and hype...</td>\n",
       "      <td>NaN</td>\n",
       "      <td>Left parieto-occipital intracerebral hemorrhag...</td>\n",
       "      <td>Left parieto-occipital intracerebral hemorrhag...</td>\n",
       "      <td>{1: 'I61', 2: 'G93', 3: 'G93', 4: 'E85', 5: 'I...</td>\n",
       "      <td>TEST</td>\n",
       "      <td>I61</td>\n",
       "      <td>I61</td>\n",
       "      <td>[I61, G93, G93, E85, I48, M48]</td>\n",
       "      <td>True</td>\n",
       "      <td>True</td>\n",
       "      <td>True</td>\n",
       "    </tr>\n",
       "    <tr>\n",
       "      <th>100884.0</th>\n",
       "      <td>HPI: Mr.  is a 57 year-old man with hx of ESRD...</td>\n",
       "      <td>NaN</td>\n",
       "      <td>Fever New pericardial effusion End-stage renal...</td>\n",
       "      <td>Fever New pericardial effusion End-stage renal...</td>\n",
       "      <td>{1: 'I30', 2: 'T82', 3: 'N18', 4: 'I12', 5: 'B...</td>\n",
       "      <td>TEST</td>\n",
       "      <td>Z49</td>\n",
       "      <td>I30</td>\n",
       "      <td>[I30, T82, N18, I12, B18, Y83, E11, K22, D63, ...</td>\n",
       "      <td>False</td>\n",
       "      <td>False</td>\n",
       "      <td>False</td>\n",
       "    </tr>\n",
       "    <tr>\n",
       "      <th>178240.0</th>\n",
       "      <td>This 71 year old white male with known coronar...</td>\n",
       "      <td>NaN</td>\n",
       "      <td>Coronary Artery Disease with tight left main d...</td>\n",
       "      <td>Coronary Artery Disease with tight left main d...</td>\n",
       "      <td>{1: 'I25', 2: 'I20', 4: 'J95', 5: 'J44', 6: 'E...</td>\n",
       "      <td>TEST</td>\n",
       "      <td>I25</td>\n",
       "      <td>I25</td>\n",
       "      <td>[I25, I20, J95, J44, E11, I25, R50, K22, I10, ...</td>\n",
       "      <td>True</td>\n",
       "      <td>True</td>\n",
       "      <td>True</td>\n",
       "    </tr>\n",
       "    <tr>\n",
       "      <th>151280.0</th>\n",
       "      <td>HPI: (obtained with assistance from his son an...</td>\n",
       "      <td>NaN</td>\n",
       "      <td>SDH</td>\n",
       "      <td>SDH</td>\n",
       "      <td>{1: 'S06', 2: 'J69', 3: 'W19', 4: 'Y92', 5: 'I...</td>\n",
       "      <td>TEST</td>\n",
       "      <td>S06</td>\n",
       "      <td>S06</td>\n",
       "      <td>[S06, J69, W19, Y92, I48, I25, Z95, I10, Z85, ...</td>\n",
       "      <td>True</td>\n",
       "      <td>True</td>\n",
       "      <td>True</td>\n",
       "    </tr>\n",
       "    <tr>\n",
       "      <th>137307.0</th>\n",
       "      <td>52F with history and physical consistent with ...</td>\n",
       "      <td>NaN</td>\n",
       "      <td>Right knee osteoarthritis</td>\n",
       "      <td>Right knee osteoarthritis</td>\n",
       "      <td>{13: 'Y83', 1: 'M17', 3: 'I97', 4: 'I24', 5: '...</td>\n",
       "      <td>TEST</td>\n",
       "      <td>M17</td>\n",
       "      <td>M17</td>\n",
       "      <td>[Y83, M17, I97, I24, E87, I45, I10, F32, K21, ...</td>\n",
       "      <td>True</td>\n",
       "      <td>True</td>\n",
       "      <td>True</td>\n",
       "    </tr>\n",
       "  </tbody>\n",
       "</table>\n",
       "</div>"
      ],
      "text/plain": [
       "                                                    HISTORY DISCHARGE_PRIMARY  \\\n",
       "159804.0  Patient is a 82 yo LHW with hx of HTN and hype...               NaN   \n",
       "100884.0  HPI: Mr.  is a 57 year-old man with hx of ESRD...               NaN   \n",
       "178240.0  This 71 year old white male with known coronar...               NaN   \n",
       "151280.0  HPI: (obtained with assistance from his son an...               NaN   \n",
       "137307.0  52F with history and physical consistent with ...               NaN   \n",
       "\n",
       "                                                  DISCHARGE  \\\n",
       "159804.0  Left parieto-occipital intracerebral hemorrhag...   \n",
       "100884.0  Fever New pericardial effusion End-stage renal...   \n",
       "178240.0  Coronary Artery Disease with tight left main d...   \n",
       "151280.0                                                SDH   \n",
       "137307.0                          Right knee osteoarthritis   \n",
       "\n",
       "                                         DISCHARGE_COALESCE  \\\n",
       "159804.0  Left parieto-occipital intracerebral hemorrhag...   \n",
       "100884.0  Fever New pericardial effusion End-stage renal...   \n",
       "178240.0  Coronary Artery Disease with tight left main d...   \n",
       "151280.0                                                SDH   \n",
       "137307.0                          Right knee osteoarthritis   \n",
       "\n",
       "                                                       PAIR Split PREDICTION  \\\n",
       "159804.0  {1: 'I61', 2: 'G93', 3: 'G93', 4: 'E85', 5: 'I...  TEST        I61   \n",
       "100884.0  {1: 'I30', 2: 'T82', 3: 'N18', 4: 'I12', 5: 'B...  TEST        Z49   \n",
       "178240.0  {1: 'I25', 2: 'I20', 4: 'J95', 5: 'J44', 6: 'E...  TEST        I25   \n",
       "151280.0  {1: 'S06', 2: 'J69', 3: 'W19', 4: 'Y92', 5: 'I...  TEST        S06   \n",
       "137307.0  {13: 'Y83', 1: 'M17', 3: 'I97', 4: 'I24', 5: '...  TEST        M17   \n",
       "\n",
       "         PRIMARY                                          DIAG_LIST  \\\n",
       "159804.0     I61                     [I61, G93, G93, E85, I48, M48]   \n",
       "100884.0     I30  [I30, T82, N18, I12, B18, Y83, E11, K22, D63, ...   \n",
       "178240.0     I25  [I25, I20, J95, J44, E11, I25, R50, K22, I10, ...   \n",
       "151280.0     S06  [S06, J69, W19, Y92, I48, I25, Z95, I10, Z85, ...   \n",
       "137307.0     M17  [Y83, M17, I97, I24, E87, I45, I10, F32, K21, ...   \n",
       "\n",
       "          PRIMARY_MATCH  ONE_IN_LIST_MATCH STATUS  \n",
       "159804.0           True               True   True  \n",
       "100884.0          False              False  False  \n",
       "178240.0           True               True   True  \n",
       "151280.0           True               True   True  \n",
       "137307.0           True               True   True  "
      ]
     },
     "execution_count": 17,
     "metadata": {},
     "output_type": "execute_result"
    }
   ],
   "source": [
    "inv_25sqrt = test.copy()\n",
    "inv_25sqrt['PREDICTION'] =  postprocess.text_dot_product(postprocess.argmax_to_one(y_hat_25_sqrt),y_test.columns)\n",
    "pmt = postmortem.failed_partial_success(inv_25sqrt)\n",
    "pmt.head()"
   ]
  },
  {
   "cell_type": "code",
   "execution_count": 18,
   "metadata": {},
   "outputs": [
    {
     "data": {
      "text/plain": [
       "A41    1774\n",
       "I25    1613\n",
       "I21    1462\n",
       "J96     833\n",
       "I50     773\n",
       "       ... \n",
       "G45       1\n",
       "R62       1\n",
       "C44       1\n",
       "I73       1\n",
       "T54       1\n",
       "Name: PAIR, Length: 729, dtype: int64"
      ]
     },
     "execution_count": 18,
     "metadata": {},
     "output_type": "execute_result"
    }
   ],
   "source": [
    "train['PAIR'].apply(preprocess.first_diag).value_counts()"
   ]
  },
  {
   "cell_type": "code",
   "execution_count": 19,
   "metadata": {},
   "outputs": [
    {
     "name": "stdout",
     "output_type": "stream",
     "text": [
      "ACCURACY: TOP_DIAGNOSIS:43.81%, IN THE LIST: 68.36%\n"
     ]
    }
   ],
   "source": [
    "evaluate.print_accuracy_results(test, postprocess.text_dot_product( postprocess.argmax_to_one(y_hat_25_sqrt),y_test.columns))"
   ]
  }
 ],
 "metadata": {
  "kernelspec": {
   "display_name": "Python 3.9.12 ('base')",
   "language": "python",
   "name": "python3"
  },
  "language_info": {
   "codemirror_mode": {
    "name": "ipython",
    "version": 3
   },
   "file_extension": ".py",
   "mimetype": "text/x-python",
   "name": "python",
   "nbconvert_exporter": "python",
   "pygments_lexer": "ipython3",
   "version": "3.9.12"
  },
  "orig_nbformat": 4,
  "vscode": {
   "interpreter": {
    "hash": "a0d540e4747513a65e87964975f7c81fb7d18508ffc1a8c72ca7d81f5952c4de"
   }
  }
 },
 "nbformat": 4,
 "nbformat_minor": 2
}
